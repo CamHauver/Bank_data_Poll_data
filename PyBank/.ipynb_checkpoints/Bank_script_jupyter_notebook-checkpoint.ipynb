{
 "cells": [
  {
   "cell_type": "code",
   "execution_count": 4,
   "id": "7f6e26f2-7b0f-4e4b-91c2-122faf0de00e",
   "metadata": {},
   "outputs": [],
   "source": [
    "#Dependencies\n",
    "import os\n",
    "import csv\n",
    "\n",
    "#File to load and output\n",
    "budget_data_csv = os.path.join(\".\", \"Resources\", \"budget_data.csv\")\n",
    "budget_analysis_results = os.path.join(\".\", \"budget_analysis_results\")\n",
    "\n",
    "#define variables  \n",
    "total_months = 1\n",
    "net_profit_loss = 0\n",
    "net_change_list = []\n",
    "monthly_change_list = []\n",
    "greatest_monthly_increase = [\"\", 0]\n",
    "greatest_monthly_decrease = [\"\", 999999999999999]"
   ]
  },
  {
   "cell_type": "code",
   "execution_count": 5,
   "id": "e2817ce0-8371-4843-8cc5-2742c9f70c19",
   "metadata": {},
   "outputs": [
    {
     "name": "stdout",
     "output_type": "stream",
     "text": [
      "Financial Analysis\n",
      "\n",
      "Total Months: 86\n",
      "Total: $22564198\n",
      "Average Change: $-8311.11\n",
      "Greatest Increase in Profits: Aug-16 ($1862002)\n",
      "Greatest Decrease in Profits: Feb-14 ($-1825558)\n",
      "\n"
     ]
    }
   ],
   "source": [
    "#Read in the CSV file, convert it into a list, loop through the data\n",
    "with open(budget_data_csv, 'r') as csv_file:\n",
    "  \n",
    "    csv_reader = csv.reader(csv_file, delimiter=\",\")\n",
    "    \n",
    "    csv_header = next(csv_reader)\n",
    "\n",
    "    first_row = next(csv_reader)\n",
    "    net_profit_loss += int(first_row[1])\n",
    "    previous_profit_loss = int(first_row[1])\n",
    "    \n",
    "   \n",
    "    for row in csv_reader:\n",
    "        \n",
    "        #calculate the total number of months included in the dataset (\"Total Months:\")\n",
    "        total_months += 1\n",
    "        \n",
    "        #calculate the net total amount of \"Profit/Losses\" over the entire period (\"Total: $\")\n",
    "        net_profit_loss += int(row[1])\n",
    "        \n",
    "        #calculate the average of the \"Profit/Losses\" changes over the entire period (\"Average Change: +/- $\")\n",
    "        net_change = int(row[1]) - previous_profit_loss\n",
    "        previous_profit_loss = int(row[1])\n",
    "        net_change_list.append(net_change)\n",
    "        \n",
    "        #The greatest increase in profits (date and amount) over the entire period (\"Greatest Increase in Profits: date (+/-$\"))\n",
    "        if (net_change > greatest_monthly_increase[1]):\n",
    "            greatest_monthly_increase[0] = row[0]\n",
    "            greatest_monthly_increase[1] = net_change\n",
    "\n",
    "        #The greatest decrease in profits (date and amount) over the entire period\n",
    "        if (net_change < greatest_monthly_decrease[1]):\n",
    "            greatest_monthly_decrease[0] = row[0]\n",
    "            greatest_monthly_decrease[1] = net_change   \n",
    "            \n",
    "average_change = sum(net_change_list)/len(net_change_list)\n",
    "        \n",
    "financial_analysis_summary = (\n",
    "    f\"Financial Analysis\\n\"\n",
    "    f\"\\n\"\n",
    "    f\"Total Months: {total_months}\\n\"\n",
    "    f\"Total: ${net_profit_loss}\\n\"\n",
    "    f\"Average Change: ${average_change:.2f}\\n\"\n",
    "    f\"Greatest Increase in Profits: {greatest_monthly_increase[0]} (${greatest_monthly_increase[1]})\\n\"\n",
    "    f\"Greatest Decrease in Profits: {greatest_monthly_decrease[0]} (${greatest_monthly_decrease[1]})\\n\"\n",
    ")\n",
    "#Print the entire analysis to the terminal\n",
    "print(financial_analysis_summary)"
   ]
  },
  {
   "cell_type": "code",
   "execution_count": 6,
   "id": "212e9146-6ac7-497a-a65f-aadfbb012131",
   "metadata": {},
   "outputs": [],
   "source": [
    "#export a text file with the results\n",
    "with open(budget_analysis_results, \"w\") as txt_file:\n",
    "    txt_file.write(financial_analysis_summary)"
   ]
  },
  {
   "cell_type": "code",
   "execution_count": null,
   "id": "802bf141-7156-4fcc-928a-f4c7c54753f0",
   "metadata": {},
   "outputs": [],
   "source": [
    "\n",
    "    \n",
    "    "
   ]
  },
  {
   "cell_type": "code",
   "execution_count": null,
   "id": "e88cf11c-2bf9-4ff8-ae10-5424f3b03cee",
   "metadata": {},
   "outputs": [],
   "source": [
    "    \n"
   ]
  },
  {
   "cell_type": "code",
   "execution_count": null,
   "id": "d088f0c6-76a7-4818-97dc-e1fc7574b61d",
   "metadata": {},
   "outputs": [],
   "source": []
  },
  {
   "cell_type": "code",
   "execution_count": null,
   "id": "d07fa9b5-ade7-419a-8c17-61b86d8b945e",
   "metadata": {},
   "outputs": [],
   "source": []
  },
  {
   "cell_type": "code",
   "execution_count": null,
   "id": "db7824d9-edb8-4625-b4ed-a34d8b516116",
   "metadata": {},
   "outputs": [],
   "source": []
  },
  {
   "cell_type": "code",
   "execution_count": null,
   "id": "05061577-da7c-4ce2-a95d-a065eadc329c",
   "metadata": {},
   "outputs": [],
   "source": []
  }
 ],
 "metadata": {
  "kernelspec": {
   "display_name": "Python 3 (ipykernel)",
   "language": "python",
   "name": "python3"
  },
  "language_info": {
   "codemirror_mode": {
    "name": "ipython",
    "version": 3
   },
   "file_extension": ".py",
   "mimetype": "text/x-python",
   "name": "python",
   "nbconvert_exporter": "python",
   "pygments_lexer": "ipython3",
   "version": "3.11.9"
  }
 },
 "nbformat": 4,
 "nbformat_minor": 5
}
