{
 "cells": [
  {
   "cell_type": "code",
   "execution_count": 1,
   "id": "53f08e48-9c88-4cc5-b63b-524d14729204",
   "metadata": {},
   "outputs": [],
   "source": [
    "#Dependencies\n",
    "import os\n",
    "import csv\n",
    "\n",
    "election_data_csv = os.path.join(\".\", \"Resources\", \"election_data.csv\")\n",
    "\n",
    "#Columns 1-3: \"Voter ID\", \"County\", \"Candidate\"\n",
    "\n",
    "#define variables\n",
    "total_votes = 0\n",
    "\n",
    "candidate_votes = {}\n",
    "candidates = []\n",
    "\n",
    "winner_vote_count = 0"
   ]
  },
  {
   "cell_type": "code",
   "execution_count": 2,
   "id": "530bed12-2f4b-4510-a16e-5dd72e315517",
   "metadata": {},
   "outputs": [],
   "source": [
    "#Open and read the CSV file\n",
    "with open(election_data_csv, 'r') as csv_file:\n",
    "    csv_reader = csv.reader(csv_file, delimiter=\",\")\n",
    "    \n",
    "    #store the header row\n",
    "    csv_header = next(csv_file)\n",
    "\n",
    "    for row in csv_reader:\n",
    "        \n",
    "        #Calculate the total number of votes cast\n",
    "        total_votes += 1\n",
    "\n",
    "        #Generate a complete list of candidates who received votes\n",
    "        candidate = row[2]\n",
    "        if candidate not in candidates:\n",
    "            candidates.append(candidate)\n",
    "        \n",
    "        #Calculate the total number of votes each candidate won\n",
    "            candidate_votes[candidate] = 0\n",
    "        candidate_votes[candidate] += 1"
   ]
  },
  {
   "cell_type": "code",
   "execution_count": 3,
   "id": "fa91ca03-2ec4-4ecb-8dd0-6e9c30e9eac8",
   "metadata": {},
   "outputs": [],
   "source": [
    "#Summarize election results:\n",
    "election_results = (\n",
    "    f\"Election Results\\n\"\n",
    "    f\"----------------------------\\n\"\n",
    "    f\"Total Votes: {total_votes}\\n\"\n",
    "    f\"----------------------------\\n\"\n",
    ")"
   ]
  },
  {
   "cell_type": "code",
   "execution_count": 4,
   "id": "dfaf8742-ced5-46aa-8213-239ba23e624d",
   "metadata": {},
   "outputs": [
    {
     "name": "stdout",
     "output_type": "stream",
     "text": [
      "Election Results\n",
      "----------------------------\n",
      "Total Votes: 369711\n",
      "----------------------------\n",
      "\n"
     ]
    }
   ],
   "source": [
    "#Print analysis to the terminal (part 1: total votes)\n",
    "print(election_results)"
   ]
  },
  {
   "cell_type": "code",
   "execution_count": 5,
   "id": "e16affc2-29c7-42f2-8145-4d532d9fe5fe",
   "metadata": {},
   "outputs": [
    {
     "name": "stdout",
     "output_type": "stream",
     "text": [
      "Charles Casper Stockham: 23.049% (85213)\n",
      "\n",
      "Diana DeGette: 73.812% (272892)\n",
      "\n",
      "Raymon Anthony Doane: 3.139% (11606)\n",
      "\n",
      "----------------------------\n",
      "Winner: Diana DeGette\n",
      "----------------------------\n",
      "\n"
     ]
    }
   ],
   "source": [
    "#Export a text file with the analysis results\n",
    "election_analysis_results = os.path.join(\".\", \"analysis\",\"election_analysis_results.txt\")\n",
    "\n",
    "with open(election_analysis_results, \"w\") as txt_file:\n",
    "    #Write into text file (part 1: total votes)\n",
    "    txt_file.write(election_results)\n",
    "    \n",
    "        #Calculate the percentage of votes each candidate won        \n",
    "    for candidate in candidate_votes:\n",
    "        votes = candidate_votes[candidate]\n",
    "\n",
    "        vote_percentage = float(votes / total_votes) * 100\n",
    "\n",
    "        #The winner of the election based on popular vote\n",
    "        if (votes > winner_vote_count):\n",
    "            winner_vote_count = votes\n",
    "            winning_candidate = candidate\n",
    "\n",
    "        #Print analysis to the terminal (part 2: each candidate's results)\n",
    "        candidate_results = f\"{candidate}: {vote_percentage:.3f}% ({votes})\\n\"\n",
    "        print(candidate_results)\n",
    "        \n",
    "        #Write into text file (part 2: each candidate's results)\n",
    "        txt_file.write(candidate_results)\n",
    "            \n",
    "    #Print analysis to the terminal (part 3: Winning candidate results)\n",
    "    winning_candidate_results = (\n",
    "        f\"----------------------------\\n\"\n",
    "        f\"Winner: {winning_candidate}\\n\"\n",
    "        f\"----------------------------\\n\"\n",
    "    )\n",
    "    print(winning_candidate_results)\n",
    "\n",
    "    #Write into text file (part 3: Winning candidate results)\n",
    "    txt_file.write(winning_candidate_results)"
   ]
  },
  {
   "cell_type": "code",
   "execution_count": null,
   "id": "1e69bee2-31b3-41ab-a8a2-2993e71593c4",
   "metadata": {},
   "outputs": [],
   "source": [
    "#GOAL\n",
    "\n",
    "#Election Results\n",
    "#-------------------------\n",
    "#Total Votes: 369711\n",
    "#-------------------------\n",
    "#Charles Casper Stockham: 23.049% (85213)\n",
    "#Diana DeGette: 73.812% (272892)\n",
    "#Raymon Anthony Doane: 3.139% (11606)\n",
    "#-------------------------\n",
    "#Winner: Diana DeGette\n",
    "#-------------------------"
   ]
  }
 ],
 "metadata": {
  "kernelspec": {
   "display_name": "Python 3 (ipykernel)",
   "language": "python",
   "name": "python3"
  },
  "language_info": {
   "codemirror_mode": {
    "name": "ipython",
    "version": 3
   },
   "file_extension": ".py",
   "mimetype": "text/x-python",
   "name": "python",
   "nbconvert_exporter": "python",
   "pygments_lexer": "ipython3",
   "version": "3.11.9"
  }
 },
 "nbformat": 4,
 "nbformat_minor": 5
}
